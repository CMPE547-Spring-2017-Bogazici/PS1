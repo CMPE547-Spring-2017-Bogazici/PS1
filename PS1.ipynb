{
 "cells": [
  {
   "cell_type": "markdown",
   "metadata": {},
   "source": [
    "# Die Rolling"
   ]
  },
  {
   "cell_type": "markdown",
   "metadata": {},
   "source": [
    "Die rolling and histogram plotting example"
   ]
  },
  {
   "cell_type": "code",
   "execution_count": 1,
   "metadata": {
    "collapsed": false
   },
   "outputs": [
    {
     "name": "stderr",
     "output_type": "stream",
     "text": [
      "/Users/semihakbayrak/anaconda/lib/python2.7/site-packages/matplotlib/font_manager.py:273: UserWarning: Matplotlib is building the font cache using fc-list. This may take a moment.\n",
      "  warnings.warn('Matplotlib is building the font cache using fc-list. This may take a moment.')\n"
     ]
    }
   ],
   "source": [
    "%matplotlib inline\n",
    "import numpy as np\n",
    "import matplotlib.pyplot as plt"
   ]
  },
  {
   "cell_type": "code",
   "execution_count": 6,
   "metadata": {
    "collapsed": false
   },
   "outputs": [],
   "source": [
    "die = np.random.uniform(low=0.0, high=1.0, size=(6,1))\n",
    "die = die/sum(die)\n",
    "cdf = np.zeros((6,1))\n",
    "cdf[0] = die[0]\n",
    "for i in range(5):\n",
    "    cdf[i+1] = cdf[i] + die[i+1]"
   ]
  },
  {
   "cell_type": "code",
   "execution_count": 7,
   "metadata": {
    "collapsed": true
   },
   "outputs": [],
   "source": [
    "def roll_die():\n",
    "    u = np.random.uniform()\n",
    "    for i in range(6):\n",
    "        if u>cdf[i]:\n",
    "            continue\n",
    "        else:\n",
    "            return i"
   ]
  },
  {
   "cell_type": "code",
   "execution_count": 12,
   "metadata": {
    "collapsed": false
   },
   "outputs": [],
   "source": [
    "counter = np.zeros((6,1))\n",
    "recorder = []\n",
    "for t in range(10000):\n",
    "    r = roll_die()\n",
    "    counter[r] = counter[r] + 1\n",
    "    recorder.append(r)"
   ]
  },
  {
   "cell_type": "code",
   "execution_count": 13,
   "metadata": {
    "collapsed": false
   },
   "outputs": [
    {
     "name": "stdout",
     "output_type": "stream",
     "text": [
      "[[ 0.3024]\n",
      " [ 0.1157]\n",
      " [ 0.1268]\n",
      " [ 0.0312]\n",
      " [ 0.2152]\n",
      " [ 0.2087]]\n"
     ]
    }
   ],
   "source": [
    "estimated_die = counter/sum(counter)\n",
    "print estimated_die"
   ]
  },
  {
   "cell_type": "code",
   "execution_count": 17,
   "metadata": {
    "collapsed": false
   },
   "outputs": [
    {
     "data": {
      "text/plain": [
       "(array([ 3024.,  1157.,  1268.,   312.,  2152.,  2087.]),\n",
       " array([0, 1, 2, 3, 4, 5, 6]),\n",
       " <a list of 6 Patch objects>)"
      ]
     },
     "execution_count": 17,
     "metadata": {},
     "output_type": "execute_result"
    },
    {
     "data": {
      "image/png": "[encoded data removed]",
      "text/plain": [
       "<matplotlib.figure.Figure at 0x10d7a6e10>"
      ]
     },
     "metadata": {},
     "output_type": "display_data"
    }
   ],
   "source": [
    "plt.hist(recorder,[0,1,2,3,4,5,6])"
   ]
  },
  {
   "cell_type": "code",
   "execution_count": 18,
   "metadata": {
    "collapsed": false
   },
   "outputs": [
    {
     "name": "stdout",
     "output_type": "stream",
     "text": [
      "[[ 0.311801  ]\n",
      " [ 0.11708922]\n",
      " [ 0.12916163]\n",
      " [ 0.0316553 ]\n",
      " [ 0.21408046]\n",
      " [ 0.19621238]]\n"
     ]
    }
   ],
   "source": [
    "print die"
   ]
  },
  {
   "cell_type": "markdown",
   "metadata": {},
   "source": [
    "# Linear Regression"
   ]
  },
  {
   "cell_type": "markdown",
   "metadata": {},
   "source": [
    "Linear Regression and plotting example"
   ]
  },
  {
   "cell_type": "code",
   "execution_count": 35,
   "metadata": {
    "collapsed": false
   },
   "outputs": [],
   "source": [
    "t = np.random.randn(10)\n",
    "t = np.sort(t) #input\n",
    "\n",
    "b = t**3 + 3*t**2 -2*t - 0.5 + 0.1*np.random.randn(10)"
   ]
  },
  {
   "cell_type": "code",
   "execution_count": 36,
   "metadata": {
    "collapsed": false
   },
   "outputs": [
    {
     "data": {
      "text/plain": [
       "[<matplotlib.lines.Line2D at 0x10e2dc810>]"
      ]
     },
     "execution_count": 36,
     "metadata": {},
     "output_type": "execute_result"
    },
    {
     "data": {
      "image/png": "[encoded data removed]",
      "text/plain": [
       "<matplotlib.figure.Figure at 0x10e08b210>"
      ]
     },
     "metadata": {},
     "output_type": "display_data"
    }
   ],
   "source": [
    "plt.plot(t,b,'ro')"
   ]
  },
  {
   "cell_type": "code",
   "execution_count": 37,
   "metadata": {
    "collapsed": false
   },
   "outputs": [
    {
     "name": "stdout",
     "output_type": "stream",
     "text": [
      "[[  1.00000000e+00  -1.40241501e+00   1.96676786e+00]\n",
      " [  1.00000000e+00  -1.28840155e+00   1.65997855e+00]\n",
      " [  1.00000000e+00  -9.12644178e-01   8.32919396e-01]\n",
      " [  1.00000000e+00  -7.76732051e-01   6.03312679e-01]\n",
      " [  1.00000000e+00  -3.95139568e-01   1.56135279e-01]\n",
      " [  1.00000000e+00  -8.19024613e-02   6.70801317e-03]\n",
      " [  1.00000000e+00   3.13589130e-02   9.83381426e-04]\n",
      " [  1.00000000e+00   9.28523219e-01   8.62155368e-01]\n",
      " [  1.00000000e+00   2.20721721e+00   4.87180781e+00]\n",
      " [  1.00000000e+00   2.44356065e+00   5.97098863e+00]]\n"
     ]
    }
   ],
   "source": [
    "A = np.ones((10,3))\n",
    "A[:,1] = t\n",
    "A[:,2] = t**2\n",
    "print A"
   ]
  },
  {
   "cell_type": "code",
   "execution_count": 38,
   "metadata": {
    "collapsed": false
   },
   "outputs": [
    {
     "name": "stdout",
     "output_type": "stream",
     "text": [
      "[-0.81805008  0.54454472  4.26355927]\n"
     ]
    }
   ],
   "source": [
    "w = np.dot(np.dot(np.linalg.inv(np.dot(np.transpose(A),A)),np.transpose(A)),b)\n",
    "print w"
   ]
  },
  {
   "cell_type": "code",
   "execution_count": 39,
   "metadata": {
    "collapsed": false
   },
   "outputs": [
    {
     "data": {
      "image/png": "[encoded data removed]",
      "text/plain": [
       "<matplotlib.figure.Figure at 0x10e2f6190>"
      ]
     },
     "metadata": {},
     "output_type": "display_data"
    }
   ],
   "source": [
    "plt.plot(t,np.dot(A,w),'k')\n",
    "plt.plot(t,b,'ro')\n",
    "plt.show()"
   ]
  },
  {
   "cell_type": "code",
   "execution_count": null,
   "metadata": {
    "collapsed": true
   },
   "outputs": [],
   "source": []
  }
 ],
 "metadata": {
  "anaconda-cloud": {},
  "kernelspec": {
   "display_name": "Python [conda root]",
   "language": "python",
   "name": "conda-root-py"
  },
  "language_info": {
   "codemirror_mode": {
    "name": "ipython",
    "version": 2
   },
   "file_extension": ".py",
   "mimetype": "text/x-python",
   "name": "python",
   "nbconvert_exporter": "python",
   "pygments_lexer": "ipython2",
   "version": "2.7.12"
  }
 },
 "nbformat": 4,
 "nbformat_minor": 1
}
